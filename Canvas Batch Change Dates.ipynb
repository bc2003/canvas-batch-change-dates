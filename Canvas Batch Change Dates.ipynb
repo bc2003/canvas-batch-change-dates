{
 "cells": [
  {
   "cell_type": "markdown",
   "metadata": {},
   "source": [
    "# Canvas Batch Change Dates\n",
    "\n",
    "This script allows you to adjust the start and end times of multiple courses at once in Canvas. At each stage you will be asked to give certain inputs and asked confirmation steps before moving forward. Please read through all of the steps and confirm that you have all of the information needed.\n",
    "\n",
    "If any of the steps along the way fail, the script will not move forward. There should be indicators of why the failure occurred and steps to take to fix the errors.\n",
    "\n",
    "### To Run (once you have read all of the instructions):\n",
    "**Kernel -> Restart & Run All**"
   ]
  },
  {
   "cell_type": "markdown",
   "metadata": {},
   "source": [
    "## 1. Token Validation\n",
    "This is the token validation stage. If you do not enter a valid token, nothing else will happen."
   ]
  },
  {
   "cell_type": "code",
   "execution_count": 1,
   "metadata": {},
   "outputs": [
    {
     "name": "stdout",
     "output_type": "stream",
     "text": [
      "Enter Canvas API Token: ········\n",
      "\u001b[32m\n",
      "Token Valid\u001b[0m\n",
      "\u001b[34m\n",
      "Hello Alison\u001b[0m\n"
     ]
    }
   ],
   "source": [
    "from canvas_batch_change_dates import initialize\n",
    "\n",
    "initialize()"
   ]
  },
  {
   "cell_type": "markdown",
   "metadata": {},
   "source": [
    "## 1. b) Create a course file from subaccount\n",
    "\n",
    "TO BE IMPLEMENTED"
   ]
  },
  {
   "cell_type": "markdown",
   "metadata": {},
   "source": [
    "## 2. Fill out Input CSV\n",
    "1. You should have a csv called `start_end_courses-template.csv` in `data/input` that has the columns **course_id**, **start_date**, and **end_date**.\n",
    "1. Create a copy of this file called `start_end_courses.csv` and add your course information to it. Please leave the template file empty.\n",
    "1. Please ensure the dates are formatted as **YYYY-MM-DD** or **YYYY-MM-DD HH:MM** in your file. If you have used Excel, the columns should be formatted as a \"Short Date\" (YYYY-MM-DD) or \"Long Date\" (YYYY-MM-DD HH:MM). \n",
    "    * The script assumes that the dates are for Vancouver\n",
    "    * The start_date will assume the time of start is 12:00am that day\n",
    "    * The end_date will assume the time of end is 11:59pm that day\n",
    "\n",
    "\n",
    "Once you have completed the script, `start_end_courses.csv` will be copied to the `/completed` folder and timestamped in the filename.\n"
   ]
  },
  {
   "cell_type": "markdown",
   "metadata": {},
   "source": [
    "## 3. Set Participation Dates\n",
    "\n",
    "The default setting for restricting participations to course dates is **None**. This will keep whatever setting was initially established. You can change this value below to **True** or **False** \n",
    "\n",
    "**None** will keep settings as is. \n",
    "**True** will restrict participation to within the given dates.\n",
    "**False** will allow participation outside of the given dates. "
   ]
  },
  {
   "cell_type": "code",
   "execution_count": 2,
   "metadata": {},
   "outputs": [],
   "source": [
    "# restrict_participation_to_dates can be True, False, or None\n",
    "restrict_participation_to_dates = True"
   ]
  },
  {
   "cell_type": "markdown",
   "metadata": {},
   "source": [
    "## 4. Apply the Changes\n",
    "In this step you will be asked to confirm the csv that is being read, and to confirm the start and end date changes that will occur.\n",
    "You should see indicators for success or failure for each of the courses as the script runs."
   ]
  },
  {
   "cell_type": "code",
   "execution_count": 3,
   "metadata": {},
   "outputs": [
    {
     "name": "stdout",
     "output_type": "stream",
     "text": [
      "\u001b[32mSuccessfully loaded csv file\u001b[0m\n"
     ]
    },
    {
     "data": {
      "text/html": [
       "<div>\n",
       "<style scoped>\n",
       "    .dataframe tbody tr th:only-of-type {\n",
       "        vertical-align: middle;\n",
       "    }\n",
       "\n",
       "    .dataframe tbody tr th {\n",
       "        vertical-align: top;\n",
       "    }\n",
       "\n",
       "    .dataframe thead th {\n",
       "        text-align: right;\n",
       "    }\n",
       "</style>\n",
       "<table border=\"1\" class=\"dataframe\">\n",
       "  <thead>\n",
       "    <tr style=\"text-align: right;\">\n",
       "      <th></th>\n",
       "      <th>course_id</th>\n",
       "      <th>course_name</th>\n",
       "      <th>note</th>\n",
       "      <th>start_at_og</th>\n",
       "      <th>start_at_new</th>\n",
       "      <th>end_at_og</th>\n",
       "      <th>end_at_new</th>\n",
       "      <th>restrict_enrol_og</th>\n",
       "      <th>restrict_enrol_new</th>\n",
       "    </tr>\n",
       "  </thead>\n",
       "  <tbody>\n",
       "    <tr>\n",
       "      <th>0</th>\n",
       "      <td>10456</td>\n",
       "      <td>Alison Myers Sandbox</td>\n",
       "      <td>OK</td>\n",
       "      <td>2018-09-21T18:49:42Z</td>\n",
       "      <td>2015-09-01 12:00:00 AM PDT-0700</td>\n",
       "      <td>None</td>\n",
       "      <td>2032-01-01 11:59:59 PM PST-0800</td>\n",
       "      <td>False</td>\n",
       "      <td>True</td>\n",
       "    </tr>\n",
       "  </tbody>\n",
       "</table>\n",
       "</div>"
      ],
      "text/plain": [
       "   course_id           course_name note           start_at_og  \\\n",
       "0      10456  Alison Myers Sandbox   OK  2018-09-21T18:49:42Z   \n",
       "\n",
       "                      start_at_new end_at_og                       end_at_new  \\\n",
       "0  2015-09-01 12:00:00 AM PDT-0700      None  2032-01-01 11:59:59 PM PST-0800   \n",
       "\n",
       "   restrict_enrol_og  restrict_enrol_new  \n",
       "0              False                True  "
      ]
     },
     "metadata": {},
     "output_type": "display_data"
    },
    {
     "name": "stdout",
     "output_type": "stream",
     "text": [
      "Would you like to try to update the above? (y/n)\n",
      "y\n",
      "\u001b[32m\n",
      "10456 course updated successfully\u001b[0m\n",
      "\n",
      "Total Courses: 1\n",
      "\n"
     ]
    },
    {
     "data": {
      "text/html": [
       "<div>\n",
       "<style scoped>\n",
       "    .dataframe tbody tr th:only-of-type {\n",
       "        vertical-align: middle;\n",
       "    }\n",
       "\n",
       "    .dataframe tbody tr th {\n",
       "        vertical-align: top;\n",
       "    }\n",
       "\n",
       "    .dataframe thead th {\n",
       "        text-align: right;\n",
       "    }\n",
       "</style>\n",
       "<table border=\"1\" class=\"dataframe\">\n",
       "  <thead>\n",
       "    <tr style=\"text-align: right;\">\n",
       "      <th></th>\n",
       "      <th>course_id</th>\n",
       "      <th>course_name</th>\n",
       "      <th>change_success</th>\n",
       "      <th>change_message</th>\n",
       "      <th>note</th>\n",
       "      <th>start_at_og</th>\n",
       "      <th>start_at_new</th>\n",
       "      <th>end_at_og</th>\n",
       "      <th>end_at_new</th>\n",
       "      <th>restrict_enrol_og</th>\n",
       "      <th>restrict_enrol_new</th>\n",
       "    </tr>\n",
       "  </thead>\n",
       "  <tbody>\n",
       "    <tr>\n",
       "      <th>0</th>\n",
       "      <td>10456</td>\n",
       "      <td>Alison Myers Sandbox</td>\n",
       "      <td>True</td>\n",
       "      <td>course updated</td>\n",
       "      <td>OK</td>\n",
       "      <td>2018-09-21T18:49:42Z</td>\n",
       "      <td>2015-09-01 12:00:00 AM PDT-0700</td>\n",
       "      <td>None</td>\n",
       "      <td>2032-01-01 11:59:59 PM PST-0800</td>\n",
       "      <td>False</td>\n",
       "      <td>True</td>\n",
       "    </tr>\n",
       "  </tbody>\n",
       "</table>\n",
       "</div>"
      ],
      "text/plain": [
       "   course_id           course_name  change_success  change_message note  \\\n",
       "0      10456  Alison Myers Sandbox            True  course updated   OK   \n",
       "\n",
       "            start_at_og                     start_at_new end_at_og  \\\n",
       "0  2018-09-21T18:49:42Z  2015-09-01 12:00:00 AM PDT-0700      None   \n",
       "\n",
       "                        end_at_new  restrict_enrol_og  restrict_enrol_new  \n",
       "0  2032-01-01 11:59:59 PM PST-0800              False                True  "
      ]
     },
     "metadata": {},
     "output_type": "display_data"
    }
   ],
   "source": [
    "from datetime import datetime\n",
    "from canvas_batch_change_dates import get_courses_df, create_course_update_df\n",
    "\n",
    "# NOW is the time you made the update, not the time the csv is output\n",
    "NOW = datetime.now()\n",
    "\n",
    "courses_df = get_courses_df('data/input/start_end_courses.csv')\n",
    "\n",
    "details = create_course_update_df(courses_df, restrict_participation_to_dates)\n",
    "\n",
    "print('\\nTotal Courses: {}\\n'.format(len(details)))\n",
    "display(details)"
   ]
  },
  {
   "cell_type": "markdown",
   "metadata": {},
   "source": [
    "## 5. Generate Final Output\n",
    "The final output will be a csv with the changes that have taken place (if confirmed in the step above)."
   ]
  },
  {
   "cell_type": "code",
   "execution_count": 4,
   "metadata": {},
   "outputs": [
    {
     "name": "stdout",
     "output_type": "stream",
     "text": [
      "\u001b[34mDetails:\u001b[0m\n",
      "    CSV NAME: \"canvas_course_settings_2021-01-12 14.18.51.csv\"\"\n",
      "    OUTPUT FOLDER: \"data/output\"\n",
      "\n",
      "Do you want to generate the csv with these details? (y/n): y\n",
      "\u001b[32m\n",
      "\"canvas_course_settings_2021-01-12 14.18.51.csv\" CREATED IN \"data/output\"\u001b[0m\n",
      "\n",
      "Goodbye!\n"
     ]
    }
   ],
   "source": [
    "from canvas_batch_change_dates import output_csv\n",
    "\n",
    "output_csv(details)"
   ]
  }
 ],
 "metadata": {
  "kernelspec": {
   "display_name": "Python 3",
   "language": "python",
   "name": "python3"
  },
  "language_info": {
   "codemirror_mode": {
    "name": "ipython",
    "version": 3
   },
   "file_extension": ".py",
   "mimetype": "text/x-python",
   "name": "python",
   "nbconvert_exporter": "python",
   "pygments_lexer": "ipython3",
   "version": "3.9.1"
  }
 },
 "nbformat": 4,
 "nbformat_minor": 2
}
